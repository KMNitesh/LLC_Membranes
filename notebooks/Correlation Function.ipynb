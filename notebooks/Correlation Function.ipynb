{
 "cells": [
  {
   "cell_type": "markdown",
   "metadata": {},
   "source": [
    "# Correlation Functions\n",
    "\n",
    "A correlation function is a measure of order in a system. It's main purpose is to determine the spatial relationship between a single atom or group of atoms to other surrounding atoms or groups of atoms.\n",
    "\n",
    "To understand the expected output of a correlation function calculation, it is easiest to start with a 1D example.\n",
    "\n",
    "In scenario 1 below, liquid crystal monomers are stacked in a perfect column. The distance, d, between the center of mass of each head group (head group atoms are highlighted black) is exactly the same in all cases. The associated z-direction (the z-axis runs in the same direction that the monomers stack) correlation function shows equally spaced, equally intense, sharp spikes located at d, 2d, 3d ...\n",
    "\n",
    "<table><tr>\n",
    "<td> <img src=\"images/ordered_monomers_stacked.png\" style=\"width: 300px;\" caption> <td>\n",
    "<td> <img src=\"images/ordered_correlation_function.png\" style=\"width: 400px;\"> <td>\n",
    "</tr></table>\n",
    "\n",
    "In the more realistic scenario 2, shown below, the liquid crystal monomers are still stacked in a column, but the head groups are far less ordered. The peaks of the correlation function broaden in response to this disorder, but their maxima are still located at about the same place as scenario 1. The amplitudes of the maxima, however, decays exponentially. The exponent describing this decay is related to the **correlation length** of the system which is a measure of the distance at which two particle positions are no longer correlated. \n",
    "\n",
    "<table><tr>\n",
    "<td> <img src=\"images/disordered_monomers_stacked.png\" style=\"width: 300px;\" caption> <td>\n",
    "<td> <img src=\"images/disordered_correlation_function.png\" style=\"width: 400px;\"> <td>\n",
    "</tr></table>\n",
    "\n",
    "Now, let's see how to plot a correlation function from a molecular dyanamics trajectory using the classes and functions that are a part of the python script *correlation_function.py* located in the LLC_Membranes repository in LLC_Membranes/analysis/correlation_function.py.\n",
    "\n",
    "For more detail, see the [Documentation](https://llc-membranes.readthedocs.io/en/latest/correlation.html) for this script!"
   ]
  },
  {
   "cell_type": "code",
   "execution_count": 8,
   "metadata": {},
   "outputs": [],
   "source": [
    "# Import necessary modules\n",
    "from LLC_Membranes.analysis import correlation_function"
   ]
  },
  {
   "cell_type": "code",
   "execution_count": 13,
   "metadata": {},
   "outputs": [],
   "source": [
    "# Define path where trajectory files are located, and the names of the .gro and trajectory files in that directory\n",
    "\n",
    "path = \"/home/jetr9379/Programs/Molecules/Molecule_X1\"\n",
    "gro = 'berendsen.gro'\n",
    "traj = 'PR.xtc'"
   ]
  },
  {
   "cell_type": "code",
   "execution_count": 15,
   "metadata": {},
   "outputs": [
    {
     "name": "stdout",
     "output_type": "stream",
     "text": [
      "Trajectory loaded\n",
      "Transforming coordinates from monoclinic to cubic unit cell\n"
     ]
    }
   ],
   "source": [
    "# Start by initializing the correlation function with the class 'Correlation'\n",
    "\n",
    "atoms = ['C', 'C1', 'C2', 'C3', 'C4', 'C5']  # we will calculated the center of mass of these atoms\n",
    "residue = 'R1'  # name of residue to which atoms belong (the name that appears in the second column of the .gro file)\n",
    "bins = [100, 100, 100]  # The unit cell will be histogrammed. Specify the number of bins in the x, y and z directions.\n",
    " \n",
    "g = correlation_function.Correlation('%s/%s' %(path, gro), trajectory='%s/%s' %(path, traj), atoms=atoms, res=residue, bins=bins)"
   ]
  },
  {
   "cell_type": "markdown",
   "metadata": {},
   "source": [
    "At this point, we have processed the trajectory so that it is in the correct format for calculating the 3d correlation function. Two main steps just took place:\n",
    "1. We narrowed the trajectory down to only the atoms we are interested in. If this was a group of atoms, then the center of mass of each group was also calculated.\n",
    "2. We converted the unit cell to a cube. We can't easily apply a discrete fourier transform to a hexagonal unit cell, so the \\__init__ function transforms the coordinates into a cubic cell. This transformation will need to be reversed later."
   ]
  },
  {
   "cell_type": "code",
   "execution_count": 16,
   "metadata": {},
   "outputs": [
    {
     "name": "stderr",
     "output_type": "stream",
     "text": [
      "100%|██████████| 218/218 [00:05<00:00, 39.93Frames/s]\n"
     ]
    }
   ],
   "source": [
    "# Now perform the calculation\n",
    "\n",
    "g.calculate_correlation_function()  # that's it"
   ]
  },
  {
   "cell_type": "markdown",
   "metadata": {},
   "source": [
    "Now we have a 3D correlation function which is stored in an array that can be accessed by calling the attribute *correlation3d*. Each dimesion of it's shape should be equal to n - 1 of the bin dimensions."
   ]
  },
  {
   "cell_type": "code",
   "execution_count": 17,
   "metadata": {},
   "outputs": [
    {
     "name": "stdout",
     "output_type": "stream",
     "text": [
      "(99, 99, 99)\n"
     ]
    }
   ],
   "source": [
    "print(g.correlation3d.shape)"
   ]
  },
  {
   "cell_type": "markdown",
   "metadata": {},
   "source": [
    "The 3D correlation function has a ton of information, but it's difficult to visualize and extract meaningful conclusions from it. Instead, we can plot 1D and 2D slices of it. \n",
    "\n",
    "Currently, only 1D slices are supported. More slices can be added if necessary in the future.\n",
    "\n",
    "Let's slice the correlation function straight up the z-axis."
   ]
  },
  {
   "cell_type": "code",
   "execution_count": 21,
   "metadata": {},
   "outputs": [
    {
     "name": "stderr",
     "output_type": "stream",
     "text": [
      "/home/jetr9379/Research/LLC_Membranes/LLC_Membranes/analysis/correlation_function.py:266: RuntimeWarning: invalid value encountered in true_divide\n",
      "  self.slice = g / g.mean()\n"
     ]
    }
   ],
   "source": [
    "axis = 2  # the axis along which to slice. x = 0, y = 1, z = 2\n",
    "\n",
    "g.make_slice(axis)"
   ]
  },
  {
   "cell_type": "markdown",
   "metadata": {},
   "source": [
    "We ran into an error! (If you didn't, which is possible, just continue to follow along) The error stems from the fact that the center of mass of a given head group is not directly stacked on top of any other head group. The correlation function is 0 at all points, so we run into a divided by zero error. Sure enough, printing the slice will show a bunch of NaNs (not a number).  "
   ]
  },
  {
   "cell_type": "code",
   "execution_count": 22,
   "metadata": {},
   "outputs": [
    {
     "name": "stdout",
     "output_type": "stream",
     "text": [
      "[nan nan nan nan nan nan nan nan nan nan nan nan nan nan nan nan nan nan\n",
      " nan nan nan nan nan nan nan nan nan nan nan nan nan nan nan nan nan nan\n",
      " nan nan nan nan nan nan nan nan nan nan nan nan nan nan nan nan nan nan\n",
      " nan nan nan nan nan nan nan nan nan nan nan nan nan nan nan nan nan nan\n",
      " nan nan nan nan nan nan nan nan nan nan nan nan nan nan nan nan nan nan\n",
      " nan nan nan nan nan nan nan nan]\n"
     ]
    }
   ],
   "source": [
    "print(g.slice)"
   ]
  },
  {
   "cell_type": "markdown",
   "metadata": {},
   "source": [
    "In the actual LLC membrane system, the head groups are not single points that interact. They are clouds of atoms and electrons whose center of mass does not need to be situated directly above another in order to interact or be considered stacked. In fact, pi-stacking is most stable when phenyl rings are slightly offset from one another on the xy plane. \n",
    "\n",
    "To overcome the issue, we can define a radius, R. Any center of mass that is within this radius, on the xy plane, can be counted as a part of the 1D correlation function.\n",
    "\n",
    "<img src=\"images/head_group_labeled.png\" style=\"width: 300px;\">"
   ]
  },
  {
   "cell_type": "code",
   "execution_count": 23,
   "metadata": {},
   "outputs": [],
   "source": [
    "r = 0.225  # approximately the van-der-waals radius of benzene\n",
    "g.make_slice(axis, radius=r)"
   ]
  },
  {
   "cell_type": "markdown",
   "metadata": {},
   "source": [
    "No error!"
   ]
  },
  {
   "cell_type": "code",
   "execution_count": 26,
   "metadata": {},
   "outputs": [
    {
     "name": "stderr",
     "output_type": "stream",
     "text": [
      "No handles with labels found to put in legend.\n"
     ]
    },
    {
     "data": {
      "image/png": "[encoded data removed]",
      "text/plain": [
       "<Figure size 432x288 with 1 Axes>"
      ]
     },
     "metadata": {},
     "output_type": "display_data"
    }
   ],
   "source": [
    "g.plot_slice(2)"
   ]
  },
  {
   "cell_type": "markdown",
   "metadata": {},
   "source": [
    "We have now plotted a correlation function. But you'll notice that it appears roughly symmetric. That is because we are working with a periodic system. A particle situated at the origin feels about the same amount of correlation from a particle 1 nm above it as it does 1 nm below it. Therefore, we can safely cut off the correlation function halfway without losing any information."
   ]
  },
  {
   "cell_type": "code",
   "execution_count": 27,
   "metadata": {
    "scrolled": true
   },
   "outputs": [
    {
     "name": "stderr",
     "output_type": "stream",
     "text": [
      "No handles with labels found to put in legend.\n"
     ]
    },
    {
     "data": {
      "image/png": "[encoded data removed]",
      "text/plain": [
       "<Figure size 432x288 with 1 Axes>"
      ]
     },
     "metadata": {},
     "output_type": "display_data"
    }
   ],
   "source": [
    "limits = ([0, 4.5], [])  # Plot between 0 and 4.5 on the x-axis. Do not impose any limits on the y-axis (i.e. let matplotlib choose)\n",
    "g.plot_slice(2, limits=limits)"
   ]
  },
  {
   "cell_type": "code",
   "execution_count": null,
   "metadata": {
    "collapsed": true
   },
   "outputs": [],
   "source": []
  }
 ],
 "metadata": {
  "kernelspec": {
   "display_name": "Python 3",
   "language": "python",
   "name": "python3"
  },
  "language_info": {
   "codemirror_mode": {
    "name": "ipython",
    "version": 3
   },
   "file_extension": ".py",
   "mimetype": "text/x-python",
   "name": "python",
   "nbconvert_exporter": "python",
   "pygments_lexer": "ipython3",
   "version": "3.6.5"
  }
 },
 "nbformat": 4,
 "nbformat_minor": 2
}
