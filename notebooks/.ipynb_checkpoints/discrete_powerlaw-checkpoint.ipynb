{
 "cells": [
  {
   "cell_type": "code",
   "execution_count": 1,
   "metadata": {
    "collapsed": true
   },
   "outputs": [],
   "source": [
    "\"\"\"\n",
    "Things to do with discrete power law\n",
    "\"\"\"\n",
    "\n",
    "import numpy as np\n",
    "import matplotlib.pyplot as plt"
   ]
  },
  {
   "cell_type": "code",
   "execution_count": 2,
   "metadata": {
    "collapsed": true
   },
   "outputs": [],
   "source": [
    "# intialize parameters and x data\n",
    "alpha = 1.3  # anomalous exponent\n",
    "xmin = 1  # minimum value drawn from discrete power law\n",
    "xmax = 1000  # maximum value of x\n",
    "x = np.linspace(xmin, xmax, (xmax - xmin) + 1)  # discrete values of x\n",
    "dx = x[1] - x[0]  # space between points, i.e. timestep"
   ]
  },
  {
   "cell_type": "code",
   "execution_count": 4,
   "metadata": {},
   "outputs": [
    {
     "data": {
      "image/png": "[encoded data removed]",
      "text/plain": [
       "<Figure size 432x288 with 1 Axes>"
      ]
     },
     "metadata": {},
     "output_type": "display_data"
    }
   ],
   "source": [
    "# plot power law with above parameters\n",
    "unnormalized = x**-alpha\n",
    "plt.plot(x, unnormalized)\n",
    "plt.show()"
   ]
  },
  {
   "cell_type": "code",
   "execution_count": 44,
   "metadata": {
    "collapsed": true
   },
   "outputs": [],
   "source": [
    "def zeta(x, alpha, upper_limit=10000):\n",
    "    \"\"\" Numberical estimate of Hurwitz zeta function. Used to nor discrete power law distribution normalization constant\n",
    "    \n",
    "    sum from n=0 to infinity of (n + x)^-\\alpha\n",
    "    \n",
    "    :param x: point at which to evaluate function\n",
    "    :param alpha: exponent of power law\n",
    "    :param upper_limit: number of terms used to calculate Hurwitz zeta function (highest value of n above)\n",
    "    \n",
    "    :type x: float\n",
    "    :type alpha: float\n",
    "    :type upper_limit: int\n",
    "\n",
    "    :return: evaluation of Hurwitz zeta function at x\n",
    "    :rtype: float\n",
    "    \"\"\"\n",
    "    \n",
    "    return sum([(n + x)**(-alpha) for n in range(upper_limit)])"
   ]
  },
  {
   "cell_type": "code",
   "execution_count": 45,
   "metadata": {
    "collapsed": true
   },
   "outputs": [],
   "source": [
    "# normalize discrete distribution\n",
    "upper_limit = 100000 # largest value in following sum since we can't sum to infinity\n",
    "normalized = unnormalized / zeta(xmin, alpha, upper_limit=upper_limit)"
   ]
  },
  {
   "cell_type": "code",
   "execution_count": 46,
   "metadata": {},
   "outputs": [
    {
     "data": {
      "image/png": "[encoded data removed]",
      "text/plain": [
       "<Figure size 432x288 with 1 Axes>"
      ]
     },
     "metadata": {},
     "output_type": "display_data"
    }
   ],
   "source": [
    "# plot normalized probability distribution\n",
    "plt.plot(x, normalized)\n",
    "plt.show()"
   ]
  },
  {
   "cell_type": "code",
   "execution_count": 47,
   "metadata": {},
   "outputs": [
    {
     "name": "stdout",
     "output_type": "stream",
     "text": [
      "0.917897169593\n"
     ]
    }
   ],
   "source": [
    "# show that normalized probability converges to an area of 1\n",
    "print(sum([i*dx for i in normalized]))  # increase xmax to get this closer to 1"
   ]
  },
  {
   "cell_type": "code",
   "execution_count": 48,
   "metadata": {
    "collapsed": true
   },
   "outputs": [],
   "source": [
    "def discrete_powerlaw_CCDF(val, xmin, alpha, upper_limit=10000):\n",
    "    \"\"\" Calculate the complementary cumulative distribution function of a discrete power law distribution such that P(x) = Pr(X >=x)\n",
    "    \n",
    "    :param x: value at which to evaluate CDF\n",
    "    :param xmin: lower bound of power law PDF\n",
    "    :param alpha: exponent of power law\n",
    "    :param upper_limit: number of terms used to calculate Hurwitz zeta function\n",
    "    \n",
    "    :type x: float\n",
    "    :type xmin: float\n",
    "    :type alpha: float\n",
    "    :type upper_limit: int\n",
    "    \n",
    "    :return CDF of power law PDF evaluated at x\n",
    "    :rtype float\n",
    "    \"\"\"\n",
    "    return zeta(val, alpha, upper_limit=upper_limit) / zeta(xmin, alpha, upper_limit=upper_limit)"
   ]
  },
  {
   "cell_type": "code",
   "execution_count": 50,
   "metadata": {},
   "outputs": [
    {
     "data": {
      "image/png": "[encoded data removed]",
      "text/plain": [
       "<Figure size 432x288 with 1 Axes>"
      ]
     },
     "metadata": {},
     "output_type": "display_data"
    }
   ],
   "source": [
    "# Plot Complementary Cumulative Distribution Function from xmin to xmax\n",
    "cdf = [discrete_powerlaw_CCDF(i, xmin, alpha, upper_limit=upper_limit) for i in x]\n",
    "plt.plot(x, cdf)\n",
    "plt.show()"
   ]
  },
  {
   "cell_type": "code",
   "execution_count": 51,
   "metadata": {
    "collapsed": true
   },
   "outputs": [],
   "source": [
    "def sample_discrete_powerlaw(alpha, xmin, size=1, upper_limit=10000):\n",
    "    \"\"\" Randomly draw from a discrete power law distribution of form t**-alpha\n",
    "    See Appendix D of https://epubs.siam.org/doi/abs/10.1137/070710111.\n",
    "    \n",
    "    This method is slow and the approximation might be more useful\n",
    "\n",
    "    :param alpha: power law exponent\n",
    "    :param xmin: lower limit of distribution.\n",
    "    :param size: number of random draws to perform\n",
    "\n",
    "    :type: alpha: float\n",
    "    :type xmin: float\n",
    "    :type size: int\n",
    "\n",
    "    :return: array of random power law draws\n",
    "    \"\"\"\n",
    "\n",
    "    r = np.random.uniform(0, 1, size=size)\n",
    "    \n",
    "    t = np.zeros([size])\n",
    "    for i, val in enumerate(r):\n",
    "        x2 = xmin\n",
    "        while discrete_powerlaw_CCDF(x2, xmin, alpha, upper_limit=upper_limit) > (1 - val):\n",
    "            x1 = x2\n",
    "            x2 = 2 * x1\n",
    "        t[i] = x2\n",
    "        \n",
    "    return t"
   ]
  },
  {
   "cell_type": "code",
   "execution_count": 52,
   "metadata": {
    "collapsed": true
   },
   "outputs": [],
   "source": [
    "def approximate_discrete_powerlaw_samples(alpha, xmin, size=1):\n",
    "    \"\"\" Approximate random draws from a discrete power law distribution of form t**-alpha\n",
    "    See Appendix D of https://epubs.siam.org/doi/abs/10.1137/070710111\n",
    "\n",
    "    :param alpha: power law exponent\n",
    "    :param xmin: lower limit of distribution.\n",
    "    :param size: number of random draws to perform\n",
    "\n",
    "    :type: alpha: float\n",
    "    :type xmin: float\n",
    "    :type size: int\n",
    "\n",
    "    :return: array of random power law draws\n",
    "    \"\"\"\n",
    "\n",
    "    r = np.random.uniform(0, 1, size=size)\n",
    "        \n",
    "    t = np.round((xmin - 0.5)*(1 - r)**(-1/(alpha -1)) + 0.5)\n",
    "        \n",
    "    return t"
   ]
  },
  {
   "cell_type": "code",
   "execution_count": 53,
   "metadata": {},
   "outputs": [
    {
     "data": {
      "image/png": "[encoded data removed]",
      "text/plain": [
       "<Figure size 432x288 with 1 Axes>"
      ]
     },
     "metadata": {},
     "output_type": "display_data"
    }
   ],
   "source": [
    "# Generate random values from a discrete power law distributio\n",
    "ndraws = 1000\n",
    "#draws = sample_discrete_powerlaw(alpha, xmin, size=ndraws, upper_limit=upper_limit)\n",
    "draws = approximate_discrete_powerlaw_samples(alpha, xmin, size=ndraws)\n",
    "plt.hist(draws, range=(0, 25), bins=25)\n",
    "plt.show()"
   ]
  },
  {
   "cell_type": "code",
   "execution_count": 56,
   "metadata": {
    "collapsed": true
   },
   "outputs": [],
   "source": [
    "def discrete_log_likelihood(alpha, x, xmin,  minimize=False, upper_limit=10000):\n",
    "    \"\"\" Calculate log likelihood for alpha given a set of x values that might come from a \n",
    "    power law distribution\n",
    "    \n",
    "    :param alpha: power law exponent. Calculates the log-likelihood of this value of alpha \n",
    "    for the data\n",
    "    :param x: array of values making up emperical distribution\n",
    "    :param xmin: lower bound of power law distribution\n",
    "    :param upper_limit: number of terms used to calculate zeta function\n",
    "    \n",
    "    :type alpha: float\n",
    "    :type x: np.ndarray\n",
    "    :type xmin: float\n",
    "    :type upper_limit: int\n",
    "    \n",
    "    :return log-likelihood of input parameters\n",
    "    :rtype float\n",
    "    \"\"\"\n",
    "    \n",
    "    n = x.size\n",
    "    z = zeta(xmin, alpha, upper_limit=upper_limit)  # optimization could be fast if this is done outside the function. \n",
    "    \n",
    "    res = -n*np.log(z) - alpha*sum([np.log(i) for i in x])\n",
    "    \n",
    "    if minimize:\n",
    "        return res * - 1\n",
    "    else:\n",
    "        return res"
   ]
  },
  {
   "cell_type": "code",
   "execution_count": 59,
   "metadata": {},
   "outputs": [
    {
     "name": "stdout",
     "output_type": "stream",
     "text": [
      "Likelihood maximized for alpha = 1.26\n"
     ]
    },
    {
     "data": {
      "image/png": "[encoded data removed]",
      "text/plain": [
       "<Figure size 432x288 with 1 Axes>"
      ]
     },
     "metadata": {},
     "output_type": "display_data"
    }
   ],
   "source": [
    "# Calculate log-likelihood of data given a range of alphas\n",
    "ll = []  # list of log-likelihoods for each alpha tested\n",
    "alphas = np.linspace(1.01, 2, 100)\n",
    "for i in alphas:\n",
    "    ll.append(discrete_log_likelihood(i, draws, xmin, upper_limit=upper_limit))\n",
    "\n",
    "# Plot the log-likelihood as a function of alpha. The maximum appears near the value\n",
    "# of alpha we provided. It's not perfect, but we only used 1000 data points and the\n",
    "# approximated discrete value generator\n",
    "plt.plot(alphas, ll)\n",
    "plt.ylabel('Log-Likelihood')\n",
    "plt.xlabel('alpha')\n",
    "print('Likelihood maximized for alpha = %.2f' % alphas[np.argmax(ll)])\n",
    "plt.show()"
   ]
  },
  {
   "cell_type": "code",
   "execution_count": 58,
   "metadata": {},
   "outputs": [
    {
     "name": "stdout",
     "output_type": "stream",
     "text": [
      "Optimized value of alpha: 1.260\n"
     ]
    }
   ],
   "source": [
    "# Now actually maximize the likelihood\n",
    "from scipy.optimize import minimize\n",
    "\n",
    "args = (draws, xmin, True, upper_limit)  # a higher upper limit gives more accurate results\n",
    "maximum = minimize(discrete_log_likelihood, 1, args=args)\n",
    "print('Optimized value of alpha: %.3f' % maximum.x)"
   ]
  },
  {
   "cell_type": "code",
   "execution_count": null,
   "metadata": {
    "collapsed": true
   },
   "outputs": [],
   "source": []
  }
 ],
 "metadata": {
  "kernelspec": {
   "display_name": "Python 3",
   "language": "python",
   "name": "python3"
  },
  "language_info": {
   "codemirror_mode": {
    "name": "ipython",
    "version": 3
   },
   "file_extension": ".py",
   "mimetype": "text/x-python",
   "name": "python",
   "nbconvert_exporter": "python",
   "pygments_lexer": "ipython3",
   "version": "3.6.1"
  }
 },
 "nbformat": 4,
 "nbformat_minor": 2
}
