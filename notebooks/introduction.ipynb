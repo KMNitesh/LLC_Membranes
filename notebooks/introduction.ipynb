{
 "cells": [
  {
   "cell_type": "code",
   "execution_count": 1,
   "metadata": {},
   "outputs": [
    {
     "data": {
      "text/plain": [
       "\"\\nThis notebook is meant as an introduction to using python in general with specific applications\\nto the LLC_Membranes repository. Work your way through each block of code to get practice using\\nmodules that are commonly used in python scripts in this repository. Press shift+enter in\\norder to run the code in each block.\\n\\nIn addition to being able to write code that works as intended, it is important to write your\\ncode in a neat and readable way that is consistent with how others write their code. This way,\\npeople will be able to look at your code and understand what is going on. The best way to do \\nthis is by following the PEP 8 style guide (https://www.python.org/dev/peps/pep-0008/). The \\nintegrated development environment (IDE), Pycharm, automatically checks for coherence to the \\nPEP 8 guidelines. Simply using Pycharm and following its style suggestions is a great way to\\nlearn how to consistently write nice code.\\n\\nTIP: generally, any question you might have about doing something in python, or about any \\nerror you encounter will likely have already been asked online somewhere. Try googling your \\nexact problem, and you'll probably find the same question answered by someone else.\\n\""
      ]
     },
     "execution_count": 1,
     "metadata": {},
     "output_type": "execute_result"
    }
   ],
   "source": [
    "\"\"\"\n",
    "This notebook is meant as an introduction to using python in general with specific applications\n",
    "to the LLC_Membranes repository. Work your way through each block of code to get practice using\n",
    "modules that are commonly used in python scripts in this repository. Press shift+enter in\n",
    "order to run the code in each block.\n",
    "\n",
    "In addition to being able to write code that works as intended, it is important to write your\n",
    "code in a neat and readable way that is consistent with how others write their code. This way,\n",
    "people will be able to look at your code and understand what is going on. The best way to do \n",
    "this is by following the PEP 8 style guide (https://www.python.org/dev/peps/pep-0008/). The \n",
    "integrated development environment (IDE), Pycharm, automatically checks for coherence to the \n",
    "PEP 8 guidelines. Simply using Pycharm and following its style suggestions is a great way to\n",
    "learn how to consistently write nice code.\n",
    "\n",
    "TIP: generally, any question you might have about doing something in python, or about any \n",
    "error you encounter will likely have already been asked online somewhere. Try googling your \n",
    "exact problem, and you'll probably find the same question answered by someone else.\n",
    "\"\"\""
   ]
  },
  {
   "cell_type": "code",
   "execution_count": 2,
   "metadata": {},
   "outputs": [],
   "source": [
    "#!/usr/bin/env python -- this line (called the shebang line) is not necessary, but I usually \n",
    "# include it so that I can run python scripts from the command line as `script.py` (assuming \n",
    "# script.py is in your path) rather than `python /path/to/script/script.py`. When you execute\n",
    "# a python script using bash with this shebang line at the top, it tells bash to interpret \n",
    "# the script with the version of python defined in your PATH (as defined in the .bashrc file)."
   ]
  },
  {
   "cell_type": "code",
   "execution_count": 3,
   "metadata": {},
   "outputs": [],
   "source": [
    "# All module imports are always defined at the top of the script. Below, I import all the \n",
    "# modules we will work with in this notebook\n",
    "\n",
    "import numpy as np  # one of the most widely used modules for doing computations with python\n",
    "import matplotlib.pyplot as plt  # plotting module\n",
    "import mdtraj as md  # mainly used for quickly loading gromacs trajectory information\n",
    "import LLC_Membranes  # this repo and all the scripts in it!"
   ]
  },
  {
   "cell_type": "code",
   "execution_count": 4,
   "metadata": {},
   "outputs": [
    {
     "name": "stdout",
     "output_type": "stream",
     "text": [
      "(1000, 100)\n",
      "1000\n"
     ]
    }
   ],
   "source": [
    "# First, let's play with numpy \n",
    "# numpy arrays are fast, which is why they are used so heavily. Most numpy functions are \n",
    "# written in C and wrapped to integrate with python. \n",
    "\n",
    "# First, create a numpy array. Typically, we initialize a numpy array that will hold numbers \n",
    "# with an array of all zeros. This is the fastest way to create an array and it makes sure \n",
    "# enough memory is allocated to the array right off the bat. Constructing arrays on the fly is\n",
    "# time consuming and sloppy. Below, we create a 1000 x 100 2D array of zeros\n",
    "arr = np.zeros([1000, 100])\n",
    "\n",
    "# we can see the dimension of the array later as follows:\n",
    "print(arr.shape)\n",
    "# we can also see just the first dimension of the array:\n",
    "print(arr.shape[0])\n",
    "# The shape attribute is useful when we need to loop through the array"
   ]
  },
  {
   "cell_type": "code",
   "execution_count": 5,
   "metadata": {},
   "outputs": [
    {
     "name": "stdout",
     "output_type": "stream",
     "text": [
      "(1000, 100)\n"
     ]
    }
   ],
   "source": [
    "# Create an array of random numbers distributed uniformly between 0 and 1 with the same shape \n",
    "# as arr. See documentation for syntax below. \n",
    "ran = np.random.uniform(0, 1, size=arr.shape)  # documentation: https://docs.scipy.org/doc/numpy-1.15.0/reference/generated/numpy.random.uniform.html\n",
    "print(ran.shape)"
   ]
  },
  {
   "cell_type": "code",
   "execution_count": 6,
   "metadata": {},
   "outputs": [
    {
     "name": "stdout",
     "output_type": "stream",
     "text": [
      "[[ 0  1  2  3  4  5  6  7  8  9]\n",
      " [10 11 12 13 14 15 16 17 18 19]\n",
      " [20 21 22 23 24 25 26 27 28 29]]\n"
     ]
    }
   ],
   "source": [
    "# lets make a simple, smaller array to work with. Create a 3 x 10 array where the first row\n",
    "# counts from 0 to 9, the second from 10 to 19 and the last from 20 to 29\n",
    "\n",
    "arr = np.zeros([3, 10], dtype=int)  # dtype defines the type of data being put in the array. By default it expects floats.\n",
    "for i in range(arr.shape[0]):\n",
    "    # use linspace to create uniformly spaced values between two numbers\n",
    "    arr[i, :] = np.linspace(i * arr.shape[1], (i + 1) * arr.shape[1] - 1, arr.shape[1])\n",
    "    # Equivalently, this could also be achieved as follows (only because we want integers):\n",
    "    # arr[i, :] = np.arange(i * arr.shape[1], (i + 1) * arr.shape[1])\n",
    "\n",
    "print(arr)"
   ]
  },
  {
   "cell_type": "code",
   "execution_count": 7,
   "metadata": {},
   "outputs": [
    {
     "name": "stdout",
     "output_type": "stream",
     "text": [
      "[0 1 2 3 4 5 6 7 8 9]\n"
     ]
    }
   ],
   "source": [
    "# Numpy arrays can be sliced, which is often very useful\n",
    "# let's look at the first row of arr only, using slicing (remember that python counts starting at 0)\n",
    "\n",
    "print(arr[0, :])  # print all values (:) in row 0"
   ]
  },
  {
   "cell_type": "code",
   "execution_count": 8,
   "metadata": {},
   "outputs": [
    {
     "name": "stdout",
     "output_type": "stream",
     "text": [
      "[20 21 22 23 24]\n"
     ]
    }
   ],
   "source": [
    "# how about just the first 5 values of the 3rd row?\n",
    "print(arr[2, :5])"
   ]
  },
  {
   "cell_type": "code",
   "execution_count": 9,
   "metadata": {},
   "outputs": [
    {
     "name": "stdout",
     "output_type": "stream",
     "text": [
      "21\n"
     ]
    }
   ],
   "source": [
    "# Or the last value of the second column\n",
    "print(arr[-1, 1])  # the second to last value is -2, third to last is -3 etc."
   ]
  },
  {
   "cell_type": "code",
   "execution_count": 10,
   "metadata": {},
   "outputs": [
    {
     "name": "stdout",
     "output_type": "stream",
     "text": [
      "[20 22 24 26 28]\n"
     ]
    }
   ],
   "source": [
    "# How about every other value in the last row\n",
    "print(arr[-1, ::2])  # the format of slicing is start:stop:step."
   ]
  },
  {
   "cell_type": "code",
   "execution_count": 11,
   "metadata": {},
   "outputs": [
    {
     "name": "stdout",
     "output_type": "stream",
     "text": [
      "29 0 14.5\n"
     ]
    }
   ],
   "source": [
    "# numpy has other basic functions as well\n",
    "print(np.max(arr), np.min(arr), np.mean(arr))"
   ]
  },
  {
   "cell_type": "code",
   "execution_count": 12,
   "metadata": {},
   "outputs": [
    {
     "name": "stdout",
     "output_type": "stream",
     "text": [
      "[ 9 19 29]\n",
      "[ 0 10 20]\n",
      "[10. 11. 12. 13. 14. 15. 16. 17. 18. 19.]\n"
     ]
    }
   ],
   "source": [
    "# But they can be used in more interesting ways. The axis option allows you to perform \n",
    "# operations on each row or column. This allows you to replace for loops with vectorized\n",
    "# operations which is almost always faster. <-- IMPORTANT!\n",
    "\n",
    "print(np.max(arr, axis=1))  # max of each row\n",
    "print(np.min(arr, axis=1))  # min of each row\n",
    "print(np.mean(arr, axis=0)) # mean of each column"
   ]
  },
  {
   "cell_type": "code",
   "execution_count": 13,
   "metadata": {},
   "outputs": [],
   "source": [
    "# Vectorization of calculations with numpy offers a lot of speed-up to code. Take a look\n",
    "# at the scripts at https://github.com/shirtsgroup/useful-scripts/tree/master/numpy_vectorization\n",
    "# in order to see how you can speed up for loops and arithmetic as well as neaten code \n",
    "# through vectorization."
   ]
  },
  {
   "cell_type": "code",
   "execution_count": 14,
   "metadata": {},
   "outputs": [
    {
     "data": {
      "image/png": "[encoded data removed]",
      "text/plain": [
       "<Figure size 432x288 with 1 Axes>"
      ]
     },
     "metadata": {},
     "output_type": "display_data"
    }
   ],
   "source": [
    "# Now matplotlib\n",
    "# We can make very pretty, high quality plots with matplotlib.\n",
    "\n",
    "# First make some x and y data\n",
    "x = np.linspace(-2, 2, 100) #WHAT ARE THE ARGUMENTS???\n",
    "y = x ** 2  # an example of a vectorized calculation. All values in x array are squared\n",
    "\n",
    "plt.plot(x, y)  # matplotlib plot function (plt = matplotlib.pyplot)\n",
    "plt.show()  # display the plot"
   ]
  },
  {
   "cell_type": "code",
   "execution_count": 15,
   "metadata": {},
   "outputs": [
    {
     "data": {
      "image/png": "[encoded data removed]",
      "text/plain": [
       "<Figure size 432x288 with 1 Axes>"
      ]
     },
     "metadata": {},
     "output_type": "display_data"
    }
   ],
   "source": [
    "# There are many ways to spruce up the above plot. Here are some formatting parameters I \n",
    "# commonly use. \n",
    "\n",
    "plt.plot(x, y, '--', color='red', linewidth=2, label='parabola 1')\n",
    "# You can also add more plots to the same plot \n",
    "plt.plot(x, 2*y, 'o', color='blue', linewidth=2, label='parabola 2')\n",
    "plt.legend()\n",
    "plt.xlabel('x-values', fontsize=14)\n",
    "plt.ylabel('y-values', fontsize=14)\n",
    "plt.tight_layout()  # tries to put borders around plot neatly so you don't have to crop later\n",
    "plt.gcf().get_axes()[0].tick_params(labelsize=14)\n",
    "plt.show()"
   ]
  },
  {
   "cell_type": "code",
   "execution_count": 16,
   "metadata": {},
   "outputs": [],
   "source": [
    "# The above only serves as brief introduction to matplotlib's basic plotting capabilities. You\n",
    "# can virtually make any kind of plot you want. You'll just need to read the documentation."
   ]
  },
  {
   "cell_type": "code",
   "execution_count": 17,
   "metadata": {},
   "outputs": [
    {
     "name": "stdout",
     "output_type": "stream",
     "text": [
      "<mdtraj.Trajectory with 251 frames, 55200 atoms, 800 residues, and unitcells>\n"
     ]
    }
   ],
   "source": [
    "# Okay, now mdtraj\n",
    "# I mainly use mdtraj in order to read gromacs trajectory files. There is a lot of other \n",
    "# functionality that I don't use because it's pretty specific to biomolecules.\n",
    "# Gromacs trajectory files are either in .trr or .xtc format\n",
    "# .trr files use full precision for everything while .xtc limits the precision, so the files\n",
    "# are generally smaller. We don't usually need high precision.\n",
    "# I've placed two files in this directory: PR.gro and PR.xtc\n",
    "# We can load all of the information stored in PR.xtc and PR.gro with mdtraj\n",
    "\n",
    "t = md.load(\"PR.xtc\", top=\"PR.gro\")  # when loading an .xtc or .trr, you must provide a .gro\n",
    "\n",
    "print(t)"
   ]
  },
  {
   "cell_type": "code",
   "execution_count": 18,
   "metadata": {},
   "outputs": [
    {
     "name": "stdout",
     "output_type": "stream",
     "text": [
      "(251, 55200, 3)\n"
     ]
    }
   ],
   "source": [
    "# Now we have a trajectory object, t, that contains all of the information about the trajectory\n",
    "# that we need in order to conduct useful post-simulation analysis\n",
    "\n",
    "# The positions of all atoms are stored in the \"xyz\" attribute\n",
    "positions = t.xyz\n",
    "\n",
    "# positions is a numpy array, so we can perform all of the operations available with numpy on\n",
    "# the array\n",
    "\n",
    "print(positions.shape) #WHAT EXACTLY DOES SHAPE DO/MEAN?"
   ]
  },
  {
   "cell_type": "code",
   "execution_count": 19,
   "metadata": {},
   "outputs": [
    {
     "name": "stdout",
     "output_type": "stream",
     "text": [
      "[393600. 395200. 396800. 398400. 400000.]\n",
      "251\n",
      "[[ 8.330404   0.         0.       ]\n",
      " [-4.1651955  7.2143455  0.       ]\n",
      " [ 0.         0.         8.961791 ]]\n"
     ]
    }
   ],
   "source": [
    "# The shape of the position array is always [nframes, natoms, 3] where nframes is the number of\n",
    "# frames in the trajectory, natoms is the number of atoms in system (entries are in the same\n",
    "# order as they appear in the .gro files), and the last axis of shape 3 holds the x, y and z\n",
    "# positions of each atom (in nanometers)\n",
    "\n",
    "# A few other useful properties\n",
    "time = t.time  # time in picoseconds\n",
    "nframes = t.n_frames  # number of frames (no different than t.xyz.shape[0])\n",
    "unitcell_vectors = t.unitcell_vectors  # unit cell vectors in tensor format [nframes, 3, 3]\n",
    "\n",
    "print(time[-5:])  # display last five time points\n",
    "print(nframes)\n",
    "print(unitcell_vectors[-1, ...])  # Box vectors of last frame (... means to include all other data in that secion of array. This line is equivalent to t.unitcell_vectors[-1, :, :])"
   ]
  },
  {
   "cell_type": "code",
   "execution_count": 20,
   "metadata": {},
   "outputs": [
    {
     "name": "stdout",
     "output_type": "stream",
     "text": [
      "8.330404 8.330404\n"
     ]
    }
   ],
   "source": [
    "# A few more notes on the unitcell_vectors. The tensor describing the box vector for each frame\n",
    "# is of shape [nframes, 3, 3]. Where nframes is number of frames. The entries are as follows:\n",
    "# [[xx xy xz]\n",
    "#  [yx yy yz]\n",
    "#  [zx zy zz]\n",
    "# So row one as the components of the x box vector in the x, y and z dimensions\n",
    "# Imagine each row describing the direction and magnitude of a vector coming from the origin. \n",
    "# By convention, the x vector goes along the x-axis, so there is not y or z component.\n",
    "# The y vector is 60 degrees to the x vector so it has an x and y component but no z #HOW AND WHAT AND WHY?\n",
    "# The z vector is perpendicular to the plane formed by the x and y vectors so only has a z component\n",
    "# The x and y vectors have the same length in this unit cell. Confirm that as follows:\n",
    "\n",
    "xlength = np.linalg.norm(unitcell_vectors[-1, 0, :])  # this operation is same as sqrt(x^2 + y^2 +z^2)\n",
    "ylength = np.linalg.norm(unitcell_vectors[-1, 1, :])\n",
    "print(xlength, ylength)"
   ]
  },
  {
   "cell_type": "code",
   "execution_count": 21,
   "metadata": {},
   "outputs": [
    {
     "name": "stdout",
     "output_type": "stream",
     "text": [
      "8.359889\n"
     ]
    }
   ],
   "source": [
    "# Let's find the average x box vector length for the whole simulation\n",
    "print(np.linalg.norm(unitcell_vectors[:, 0, :], axis=1).mean())"
   ]
  },
  {
   "cell_type": "code",
   "execution_count": 22,
   "metadata": {},
   "outputs": [
    {
     "name": "stdout",
     "output_type": "stream",
     "text": [
      "(251, 3)\n"
     ]
    }
   ],
   "source": [
    "# Let's break down exactly what happened in the previous block\n",
    "# when we slice unitcell_vectors, the array becomes 2-dimensional\n",
    "sliced_array = unitcell_vectors[:, 0, :]\n",
    "print(sliced_array.shape)"
   ]
  },
  {
   "cell_type": "code",
   "execution_count": 23,
   "metadata": {},
   "outputs": [
    {
     "name": "stdout",
     "output_type": "stream",
     "text": [
      "(251,)\n"
     ]
    }
   ],
   "source": [
    "# This leaves the x box vector for each frame. \n",
    "# We want to calculate the length of the box vector at each frame which will yield 251 lengths\n",
    "# We want to apply the norm to each row to achieve this. We can use the axis option instead of\n",
    "# a for loop to do this calculation quickly.\n",
    "norms = np.linalg.norm(sliced_array, axis=1)\n",
    "print(norms.shape)"
   ]
  },
  {
   "cell_type": "code",
   "execution_count": 24,
   "metadata": {},
   "outputs": [
    {
     "name": "stdout",
     "output_type": "stream",
     "text": [
      "8.359889\n"
     ]
    }
   ],
   "source": [
    "# Any easy way to figure out what to choose for the axis option is to think about which axis\n",
    "# you want to eliminate. If the shape is (251, 3) and we expect an output array of length 251,\n",
    "# then we want to eliminate axis 1 (recall numbering starts from 0, so axis 0 has size 251\n",
    "# and axis 1 has size 3)\n",
    "\n",
    "# The output is a numpy array, so we can do numpy operations\n",
    "print(norms.mean())  # or equivalently, np.mean(norms)"
   ]
  },
  {
   "cell_type": "code",
   "execution_count": 25,
   "metadata": {},
   "outputs": [
    {
     "name": "stdout",
     "output_type": "stream",
     "text": [
      "<mdtraj.Topology with 1 chains, 800 residues, 55200 atoms, 0 bonds>\n"
     ]
    }
   ],
   "source": [
    "# Let's work more with the trajectory now\n",
    "# Let's get the names of every atom in the order that they appear in the .gro file\n",
    "# First, let's look at the topology generator #WHERE DID THE TOPOLOGY GENERATOR COME FROM?\n",
    "\n",
    "print(t.topology)"
   ]
  },
  {
   "cell_type": "code",
   "execution_count": 26,
   "metadata": {},
   "outputs": [
    {
     "name": "stdout",
     "output_type": "stream",
     "text": [
      "<generator object atoms at 0x7ff9d04612b0>\n"
     ]
    }
   ],
   "source": [
    "# t.topology contains a number of attributes which you can iterate through. However, you \n",
    "# can't just print the attributes. For example...\n",
    "print(t.topology.atoms)  # t.topology.atoms is a way to get information about atoms"
   ]
  },
  {
   "cell_type": "code",
   "execution_count": 27,
   "metadata": {},
   "outputs": [
    {
     "name": "stdout",
     "output_type": "stream",
     "text": [
      "['C', 'C1', 'C2', 'C3', 'C4', 'C5', 'O', 'O1', 'O2', 'C6']\n"
     ]
    }
   ],
   "source": [
    "# t.topology.atoms is just a generator. It doesn't have all the atoms stored in an array. Rather,\n",
    "# it produces information on the fly. To store all of the names, we need to iterate:\n",
    "names = []\n",
    "for a in t.topology.atoms:\n",
    "    names.append(a.name)\n",
    "    \n",
    "print(names[:10]) # display the first 10 names"
   ]
  },
  {
   "cell_type": "code",
   "execution_count": 28,
   "metadata": {},
   "outputs": [
    {
     "name": "stdout",
     "output_type": "stream",
     "text": [
      "range(0, 10)\n"
     ]
    }
   ],
   "source": [
    "# It's not much different from the builtin range function\n",
    "print(range(10))"
   ]
  },
  {
   "cell_type": "code",
   "execution_count": 29,
   "metadata": {},
   "outputs": [
    {
     "name": "stdout",
     "output_type": "stream",
     "text": [
      "0\n",
      "1\n",
      "2\n",
      "3\n",
      "4\n",
      "5\n",
      "6\n",
      "7\n",
      "8\n",
      "9\n"
     ]
    }
   ],
   "source": [
    "# You have to loop through to access everything\n",
    "for i in range(10):\n",
    "    print(i)"
   ]
  },
  {
   "cell_type": "code",
   "execution_count": 30,
   "metadata": {},
   "outputs": [
    {
     "name": "stdout",
     "output_type": "stream",
     "text": [
      "[0, 1, 2, 3, 4, 5, 6, 7, 8, 9, 10]\n"
     ]
    }
   ],
   "source": [
    "# We can get the names of all atoms using a single line using a list comprehension\n",
    "# List comprehensions are generally used to generated a list of values using a for loop\n",
    "# Let's say we want to create a list of numbers from 0 to 10\n",
    "print([x for x in np.arange(11)])  # 11 because np.arange doesn't include stop value"
   ]
  },
  {
   "cell_type": "code",
   "execution_count": 31,
   "metadata": {},
   "outputs": [
    {
     "name": "stdout",
     "output_type": "stream",
     "text": [
      "['C', 'C1', 'C2', 'C3', 'C4', 'C5', 'O', 'O1', 'O2', 'C6']\n"
     ]
    }
   ],
   "source": [
    "# essentially a list comprehension is a for loop written on one line in between brackets.\n",
    "# Now let's get a list of all the atom names in this way\n",
    "\n",
    "names = [a.name for a in t.topology.atoms]\n",
    "print(names[:10])"
   ]
  },
  {
   "cell_type": "code",
   "execution_count": 32,
   "metadata": {},
   "outputs": [],
   "source": [
    "# There are a lot of atom properties you can iterate through in t.topology.atoms\n",
    "# Some that I use commonly: t.topology.atoms.name, t.topology.atoms.index, t.topology.residue\n",
    "\n",
    "# Let's do something more complicated. I want to calculate the average z-position of all 'O1' atoms\n",
    "# located in the first pore frame-by-frame and then plot the results. I'll show how to do it in a few \n",
    "# steps"
   ]
  },
  {
   "cell_type": "code",
   "execution_count": 33,
   "metadata": {},
   "outputs": [
    {
     "name": "stdout",
     "output_type": "stream",
     "text": [
      "400\n"
     ]
    }
   ],
   "source": [
    "# (1) Get indices of all \"O1\" atoms.\n",
    "keep = [a.index for a in t.topology.atoms if a.name == \"O1\"]  # you can add conditionals to list comprehensions\n",
    "print(len(keep))  # There should be 400 O1 atoms since each monomer contains 1"
   ]
  },
  {
   "cell_type": "code",
   "execution_count": 34,
   "metadata": {},
   "outputs": [],
   "source": [
    "# (2) Restrict to first pore. This takes knowledge of how build.py works. Each system is built 1\n",
    "# pore at a time. There are 400 monomers and 4 pores. So the first 100 monomers are placed in\n",
    "# the first pore. Likewise, that means that the first 100 O1 atoms in the first pore.\n",
    "keep = keep[:100]  # restricted to first pore #WOULD keep[1:1000] also work?"
   ]
  },
  {
   "cell_type": "code",
   "execution_count": 35,
   "metadata": {},
   "outputs": [
    {
     "name": "stdout",
     "output_type": "stream",
     "text": [
      "(251, 100)\n"
     ]
    }
   ],
   "source": [
    "# (2) Get positions of \"O1\" atoms by slicing position array\n",
    "O1_positions = t.xyz[:, keep, 2]  # [keep all frames, keep only indices of O1 atoms in first pore, keep z coordinates]\n",
    "print(O1_positions.shape)  # O1_positions contains xyz positions of all O1 atoms in first pore in each of 251 frames"
   ]
  },
  {
   "cell_type": "code",
   "execution_count": 36,
   "metadata": {},
   "outputs": [
    {
     "name": "stdout",
     "output_type": "stream",
     "text": [
      "(251,)\n"
     ]
    }
   ],
   "source": [
    "# (3) Get average positions.\n",
    "average_position = O1_positions.mean(axis=1)  # want to average z-position at each frame\n",
    "print(average_position.shape)"
   ]
  },
  {
   "cell_type": "code",
   "execution_count": 37,
   "metadata": {},
   "outputs": [
    {
     "data": {
      "image/png": "[encoded data removed]",
      "text/plain": [
       "<Figure size 432x288 with 1 Axes>"
      ]
     },
     "metadata": {},
     "output_type": "display_data"
    }
   ],
   "source": [
    "# (4) Plot (without any fancy formatting)\n",
    "plt.plot(time / 1000, average_position)\n",
    "plt.xlabel('Time (ns)')\n",
    "plt.ylabel('$z$-position')  # Using $ makes matplotlib interpret as done by Latex math mode\n",
    "plt.show()"
   ]
  },
  {
   "cell_type": "code",
   "execution_count": 38,
   "metadata": {},
   "outputs": [],
   "source": [
    "# This isn't a super interesting statistic, but hopefully you can see how the mdtraj trajectory\n",
    "# object makes it easy to do relatively complicated calculations in a pretty straightforward way."
   ]
  },
  {
   "cell_type": "code",
   "execution_count": 39,
   "metadata": {},
   "outputs": [],
   "source": [
    "# Okay let's use some of my scripts.\n",
    "# First let's calculate pore-to-pore distance. This can be done with p2p.py. \n",
    "# This is one of my earlier scripts that will be revised eventually. It is poorly written and\n",
    "# poorly organized. So one day this section will need to be re-written\n",
    "\n",
    "from LLC_Membranes.analysis import p2p  # import the script\n",
    "\n",
    "# all of the following is written in p2p.py after \"if __name__ == '__main__'\". This line of code\n",
    "# is necessary so that the module can be imported elsewhere without running a bunch of code.\n",
    "pos = p2p.restrict_atoms(t, 'NA')  # we will locate the pore center using the average position\n",
    "# of sodium ions in each pore. This is specific to my system. Which atoms to use to find the pore\n",
    "# center is something that requires a small amount of thought"
   ]
  },
  {
   "cell_type": "code",
   "execution_count": 40,
   "metadata": {},
   "outputs": [
    {
     "name": "stdout",
     "output_type": "stream",
     "text": [
      "(2, 4, 251)\n"
     ]
    }
   ],
   "source": [
    "# get the pore centers\n",
    "npores = 4\n",
    "p_centers = p2p.avg_pore_loc(npores, pos)\n",
    "print(p_centers.shape)"
   ]
  },
  {
   "cell_type": "code",
   "execution_count": 41,
   "metadata": {},
   "outputs": [
    {
     "name": "stdout",
     "output_type": "stream",
     "text": [
      "(6, 251)\n"
     ]
    }
   ],
   "source": [
    "# The shape of the array is not ideal, but it holds the average x and y coordinates of the \n",
    "# sodium ions in each of the pores at each of the 251 frames.\n",
    "# Calculate pore-to-pore distances\n",
    "distances = 6  # number of pore to pore distances to calculate. There are 6 unique distances in a parallelogram\n",
    "p2ps = p2p.p2p(p_centers, distances)\n",
    "print(p2ps.shape)"
   ]
  },
  {
   "cell_type": "code",
   "execution_count": 42,
   "metadata": {},
   "outputs": [
    {
     "name": "stdout",
     "output_type": "stream",
     "text": [
      "[4.08589915 4.08937664 4.22971068 7.25881061 4.33380885 4.31345498]\n"
     ]
    }
   ],
   "source": [
    "means = np.zeros(distances)\n",
    "for i in range(distances):\n",
    "    means[i] = np.mean(p2ps[i, :])\n",
    "print(means)"
   ]
  },
  {
   "cell_type": "code",
   "execution_count": 43,
   "metadata": {},
   "outputs": [
    {
     "name": "stdout",
     "output_type": "stream",
     "text": [
      "Maximum Autocorrelation Time: 2.8862687662345197 frames\n",
      "20 Independent Trajectories\n",
      "Equilibration detected after 304 ns\n",
      "Average Pore to Pore distance: 4.186\n",
      "Standard Deviation of Pore to Pore distances: 0.133\n"
     ]
    }
   ],
   "source": [
    "# In a perfect parallelogram with equal length sides, there are 5 distances between the corner \n",
    "# points that are exactly the same distance, d, apart. The sixth distance is sqrt(3)*d. We \n",
    "# eliminate the outlier from the calculation.\n",
    "exclude = [np.argmax(means)]  # written as a list because following function needs it as a list (remember I said this is poorly written)\n",
    "nboot = 200  # we will generate statistics via bootstrapping (more on that another time)\n",
    "p2p_avg, p2p_std, equil = p2p.p2p_stats(p2ps, exclude, nboot, 'auto')  # the last parameter refers the determination of equilibration. 'auto' means it'll detect it automatically usign a method implemented in pymbar. If you don't want that, set the index of equilibration manually with an integer value.\n",
    "print('Equilibration detected after %d ns' % (t.time[equil] / 1000))\n",
    "print('Average Pore to Pore distance: %.3f' % p2p_avg)\n",
    "print('Standard Deviation of Pore to Pore distances: %.3f' % p2p_std)"
   ]
  },
  {
   "cell_type": "code",
   "execution_count": 44,
   "metadata": {},
   "outputs": [
    {
     "data": {
      "image/png": "[encoded data removed]",
      "text/plain": [
       "<Figure size 432x288 with 1 Axes>"
      ]
     },
     "metadata": {},
     "output_type": "display_data"
    }
   ],
   "source": [
    "# Now let's plot average pore-to-pore distance vs. time\n",
    "plt.figure()\n",
    "plt.xlabel('Time (ns)', fontsize=14)\n",
    "plt.ylabel('Distance between pores (nm)', fontsize=14)\n",
    "plt.gcf().get_axes()[0].tick_params(labelsize=14)\n",
    "\n",
    "display = [i for i in range(distances) if i not in exclude]  # don't want to include excluded trajectory\n",
    "plt.plot(time / 1000, p2ps[display, :].mean(axis=0), linewidth=2)\n",
    "plt.show()"
   ]
  },
  {
   "cell_type": "code",
   "execution_count": null,
   "metadata": {},
   "outputs": [],
   "source": [
    "# Cool, we did it. That's an example of how to use the functionality of p2p.py in your own\n",
    "# python script. \n",
    "# BUT the easiest way to use these scripts is from the command line.\n",
    "# For example type the following in the directory where this notebook is stored:\n",
    "# p2p.py -t PR.xtc -g PR.gro -c NA -b 200 --plot_avg --auto_exclude\n",
    "# This will produce the same results which we arrived at above.\n",
    "# There are more flags you can pass to p2p.py to affect the output. View them with:\n",
    "# p2p.py -h\n",
    "# Also, every script has an initialize() function near the top which has all of the arguments"
   ]
  },
  {
   "cell_type": "code",
   "execution_count": null,
   "metadata": {},
   "outputs": [],
   "source": [
    "# More on the LLC_Membranes repository\n",
    "# The current structure of the LLC_Membranes repo attempts to be organized somewhat intuitively\n",
    "# This repo will never be distrbuted as a python package. I am working on a separate repository\n",
    "# called 'llcsim' which contains only the necessary parts of this directory. \n",
    "\n",
    "# The most important directories are:\n",
    "# setup -- contains all python scripts used to set up system (generate initial config, topologies, mdps etc.)\n",
    "# analysis -- scripts which conduct all post simulation analysis\n",
    "# top -- Contains monomer / solute structures + topologies as well as gaff force field\n",
    "# llclib -- Contains a library of commonly used functions. Usually imported to setup or analysis scripts"
   ]
  },
  {
   "cell_type": "code",
   "execution_count": null,
   "metadata": {},
   "outputs": [],
   "source": [
    "# More on llclib. \n",
    "# The llclib repository contains a relatively small amount of python files. Each contains a \n",
    "# number of functions which can be imported for use in other scripts. The main ones are as \n",
    "# follows:\n",
    "# file_rw.py -- operations having to do with reading and writing files\n",
    "# fitting_functions.py -- functions you might want to fit to data\n",
    "# physical.py -- common physical property calcluations\n",
    "# stats.py -- contains statistical functions\n",
    "# timeseries.py -- Functions involving time series (autocorrelation, mean squared displacement etc.)\n",
    "# topology.py -- Create objects out of residues, solutes etc. for easy extraction of properties\n",
    "# transform.py -- Euclidean space transformations (rotation, translation etc.)"
   ]
  },
  {
   "cell_type": "code",
   "execution_count": null,
   "metadata": {},
   "outputs": [],
   "source": [
    "# More on topology.py\n",
    "# This script is useful because it exhaustively characterizes liquid crystal monomers and solutes\n",
    "# The function to read the annotations in the .gro file stored in top/topologies is here\n",
    "\n",
    "from LLC_Membranes.llclib import topology\n",
    "lc = topology.LC('NAcarb11V.gro')  # this is a line in build.py for example\n",
    "\n",
    "print(lc.natoms)\n",
    "print(lc.planeatoms)\n",
    "print(lc.plane_indices)\n",
    "print(lc.lineatoms)\n",
    "print(lc.residues)\n",
    "print(lc.nresidues)\n",
    "print(lc.benzene_carbons)"
   ]
  },
  {
   "cell_type": "code",
   "execution_count": null,
   "metadata": {},
   "outputs": [],
   "source": []
  }
 ],
 "metadata": {
  "kernelspec": {
   "display_name": "Python 3",
   "language": "python",
   "name": "python3"
  },
  "language_info": {
   "codemirror_mode": {
    "name": "ipython",
    "version": 3
   },
   "file_extension": ".py",
   "mimetype": "text/x-python",
   "name": "python",
   "nbconvert_exporter": "python",
   "pygments_lexer": "ipython3",
   "version": "3.6.5"
  }
 },
 "nbformat": 4,
 "nbformat_minor": 2
}
