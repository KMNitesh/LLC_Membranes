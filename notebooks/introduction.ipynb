{
 "cells": [
  {
   "cell_type": "code",
   "execution_count": 1,
   "metadata": {},
   "outputs": [
    {
     "data": {
      "text/plain": [
       "\"\\nThis notebook is meant as an introduction to using python in general with specific applications\\nto the LLC_Membranes repository. Work your way through each block of code to get practice using\\nmodules that are commonly used in python scripts in this repository. Press shift+enter in\\norder to run the code in each block.\\n\\nIn addition to being able to write code that works as intended, it is important to write your\\ncode in a neat and readable way that is consistent with how others write their code. This way,\\npeople will be able to look at your code and understand what is going on. The best way to do \\nthis is by following the PEP 8 style guide (https://www.python.org/dev/peps/pep-0008/). The \\nintegrated development environment (IDE), Pycharm, automatically checks for coherence to the \\nPEP 8 guidelines. Simply using Pycharm and following its style suggestions is a great way to\\nlearn how to consistently write nice code.\\n\\nTIP: generally, any question you might have about doing something in python, or about any \\nerror you encounter will likely have already been asked online somewhere. Try googling your \\nexact problem, and you'll probably find the same question answered by someone else.\\n\""
      ]
     },
     "execution_count": 1,
     "metadata": {},
     "output_type": "execute_result"
    }
   ],
   "source": [
    "\"\"\"\n",
    "This notebook is meant as an introduction to using python in general with specific applications\n",
    "to the LLC_Membranes repository. Work your way through each block of code to get practice using\n",
    "modules that are commonly used in python scripts in this repository. Press shift+enter in\n",
    "order to run the code in each block.\n",
    "\n",
    "In addition to being able to write code that works as intended, it is important to write your\n",
    "code in a neat and readable way that is consistent with how others write their code. This way,\n",
    "people will be able to look at your code and understand what is going on. The best way to do \n",
    "this is by following the PEP 8 style guide (https://www.python.org/dev/peps/pep-0008/). The \n",
    "integrated development environment (IDE), Pycharm, automatically checks for coherence to the \n",
    "PEP 8 guidelines. Simply using Pycharm and following its style suggestions is a great way to\n",
    "learn how to consistently write nice code.\n",
    "\n",
    "TIP: generally, any question you might have about doing something in python, or about any \n",
    "error you encounter will likely have already been asked online somewhere. Try googling your \n",
    "exact problem, and you'll probably find the same question answered by someone else.\n",
    "\"\"\""
   ]
  },
  {
   "cell_type": "code",
   "execution_count": 2,
   "metadata": {
    "collapsed": true
   },
   "outputs": [],
   "source": [
    "#!/usr/bin/env python -- this line (called the shebang line) is not necessary, but I usually \n",
    "# include it so that I can run python scripts from the command line as `script.py` (assuming \n",
    "# script.py is in your path) rather than `python /path/to/script/script.py`. When you execute\n",
    "# a python script using bash with this shebang line at the top, it tells bash to interpret \n",
    "# the script with the version of python defined in your PATH (as defined in the .bashrc file)."
   ]
  },
  {
   "cell_type": "code",
   "execution_count": 3,
   "metadata": {
    "collapsed": true
   },
   "outputs": [],
   "source": [
    "# All module imports are always defined at the top of the script. Below, I import all the \n",
    "# modules we will work with in this notebook\n",
    "\n",
    "import numpy as np  # one of the most widely used modules for doing computations with python\n",
    "import matplotlib.pyplot as plt  # plotting module\n",
    "import mdtraj as md  # mainly used for quickly loading gromacs trajectory information\n",
    "import LLC_Membranes  # this repo and all the scripts in it!"
   ]
  },
  {
   "cell_type": "code",
   "execution_count": 4,
   "metadata": {},
   "outputs": [
    {
     "name": "stdout",
     "output_type": "stream",
     "text": [
      "(1000, 100)\n",
      "1000\n"
     ]
    }
   ],
   "source": [
    "# let's play with numpy \n",
    "# numpy arrays are fast, which is why they are used so heavily. Most numpy functions are \n",
    "# written in C and wrapped to integrate with python. \n",
    "\n",
    "# First, create a numpy array. Typically, we initialize a numpy array that will hold numbers \n",
    "# with an array of all zeros. This is the fastest way to create an array and it makes sure \n",
    "# enough memory is allocated to the array right off the bat. Constructing arrays on the fly is\n",
    "# time consuming and sloppy. Below, we create a 1000 x 100 2D array of zeros\n",
    "arr = np.zeros([1000, 100])\n",
    "\n",
    "# we can see the dimension of the array later as follows:\n",
    "print(arr.shape)\n",
    "# we can also see just the first dimension of the array:\n",
    "print(arr.shape[0])\n",
    "# The shape attribute is useful when we need to loop through the array"
   ]
  },
  {
   "cell_type": "code",
   "execution_count": 5,
   "metadata": {},
   "outputs": [
    {
     "name": "stdout",
     "output_type": "stream",
     "text": [
      "(1000, 100)\n"
     ]
    }
   ],
   "source": [
    "# Create an array of random numbers distributed uniformly between 0 and 1 with the same shape \n",
    "# as arr. See documentation for syntax below. \n",
    "ran = np.random.uniform(0, 1, size=arr.shape)  # documentation: https://docs.scipy.org/doc/numpy-1.15.0/reference/generated/numpy.random.uniform.html\n",
    "print(ran.shape)"
   ]
  },
  {
   "cell_type": "code",
   "execution_count": 6,
   "metadata": {},
   "outputs": [
    {
     "name": "stdout",
     "output_type": "stream",
     "text": [
      "[[ 0  1  2  3  4  5  6  7  8  9]\n",
      " [10 11 12 13 14 15 16 17 18 19]\n",
      " [20 21 22 23 24 25 26 27 28 29]]\n"
     ]
    }
   ],
   "source": [
    "# lets make a simple, smaller array to work with. Create a 3 x 10 array where the first row\n",
    "# counts from 0 to 9, the second from 10 to 19 and the last from 20 to 29\n",
    "\n",
    "arr = np.zeros([3, 10], dtype=int)  # dtype defines the type of data being put in the array. By default it expects floats.\n",
    "for i in range(arr.shape[0]):\n",
    "    # use linspace to create uniformly spaced values between two numbers\n",
    "    arr[i, :] = np.linspace(i * arr.shape[1], (i + 1) * arr.shape[1] - 1, arr.shape[1])\n",
    "    # Equivalently, this could also be achieved as follows (only because we want integers):\n",
    "    # arr[i, :] = np.arange(i * arr.shape[1], (i + 1) * arr.shape[1])\n",
    "\n",
    "print(arr)"
   ]
  },
  {
   "cell_type": "code",
   "execution_count": 7,
   "metadata": {},
   "outputs": [
    {
     "name": "stdout",
     "output_type": "stream",
     "text": [
      "[0 1 2 3 4 5 6 7 8 9]\n"
     ]
    }
   ],
   "source": [
    "# Numpy arrays can be sliced, which is often very useful\n",
    "# let's look at the first row of arr only, using slicing\n",
    "\n",
    "print(arr[0, :])  # print all values (:) in row 0"
   ]
  },
  {
   "cell_type": "code",
   "execution_count": 8,
   "metadata": {},
   "outputs": [
    {
     "name": "stdout",
     "output_type": "stream",
     "text": [
      "[20 21 22 23 24]\n"
     ]
    }
   ],
   "source": [
    "# how about just the first 5 values of the 3rd row?\n",
    "print(arr[2, :5])"
   ]
  },
  {
   "cell_type": "code",
   "execution_count": 9,
   "metadata": {},
   "outputs": [
    {
     "name": "stdout",
     "output_type": "stream",
     "text": [
      "21\n"
     ]
    }
   ],
   "source": [
    "# Or the last value of the second column\n",
    "print(arr[-1, 1])"
   ]
  },
  {
   "cell_type": "code",
   "execution_count": 10,
   "metadata": {},
   "outputs": [
    {
     "name": "stdout",
     "output_type": "stream",
     "text": [
      "[20 22 24 26 28]\n"
     ]
    }
   ],
   "source": [
    "# How about every other value in the last row\n",
    "print(arr[-1, ::2])"
   ]
  },
  {
   "cell_type": "code",
   "execution_count": 11,
   "metadata": {},
   "outputs": [
    {
     "name": "stdout",
     "output_type": "stream",
     "text": [
      "29 0 14.5\n"
     ]
    }
   ],
   "source": [
    "# numpy has other basic functions as well\n",
    "print(np.max(arr), np.min(arr), np.mean(arr))"
   ]
  },
  {
   "cell_type": "code",
   "execution_count": 12,
   "metadata": {},
   "outputs": [
    {
     "name": "stdout",
     "output_type": "stream",
     "text": [
      "[ 9 19 29]\n",
      "[ 0 10 20]\n",
      "[ 10.  11.  12.  13.  14.  15.  16.  17.  18.  19.]\n"
     ]
    }
   ],
   "source": [
    "# But they can be used in more interesting ways. The axis option allows you to perform \n",
    "# operations on each row or column. This allows you to replace for loops with vectorized\n",
    "# operations which is almost always faster. <-- IMPORTANT!\n",
    "\n",
    "print(np.max(arr, axis=1))  # max of each row\n",
    "print(np.min(arr, axis=1))  # min of each row\n",
    "print(np.mean(arr, axis=0)) # mean of each column"
   ]
  },
  {
   "cell_type": "code",
   "execution_count": 13,
   "metadata": {
    "collapsed": true
   },
   "outputs": [],
   "source": [
    "# Vectorization of calculations with numpy offers a lot of speed-up to code. Take a look\n",
    "# at the scripts at https://github.com/shirtsgroup/useful-scripts/tree/master/numpy_vectorization\n",
    "# in order to see how you can speed up for loops and arithmetic as well as neaten code \n",
    "# through vectorization."
   ]
  },
  {
   "cell_type": "code",
   "execution_count": 14,
   "metadata": {},
   "outputs": [
    {
     "data": {
      "image/png": "[encoded data removed]",
      "text/plain": [
       "<Figure size 432x288 with 1 Axes>"
      ]
     },
     "metadata": {},
     "output_type": "display_data"
    }
   ],
   "source": [
    "# Now matplotlib\n",
    "# We can make very pretty, high quality plots with matplotlib.\n",
    "\n",
    "# First make some x and y data\n",
    "x = np.linspace(-2, 2, 100)\n",
    "y = x ** 2  # an example of a vectorized calculation. All values in x array are squared\n",
    "\n",
    "plt.plot(x, y)  # matplotlib plot function\n",
    "plt.show()  # display the plot"
   ]
  },
  {
   "cell_type": "code",
   "execution_count": 15,
   "metadata": {},
   "outputs": [
    {
     "data": {
      "image/png": "[encoded data removed]",
      "text/plain": [
       "<Figure size 432x288 with 1 Axes>"
      ]
     },
     "metadata": {},
     "output_type": "display_data"
    }
   ],
   "source": [
    "# There are many ways to spruce up the above plot. Here is some formatting I commonly use\n",
    "# You can also add more plots to the same plot \n",
    "\n",
    "plt.plot(x, y, '--', color='red', linewidth=2, label='parabola 1')\n",
    "plt.plot(x, 2*y, 'o', color='blue', linewidth=2, label='parabola 2')\n",
    "plt.legend()\n",
    "plt.xlabel('x-values', fontsize=14)\n",
    "plt.ylabel('y-values', fontsize=14)\n",
    "plt.tight_layout()  # tries to put borders around plot neatly so you don't have to crop later\n",
    "plt.gcf().get_axes()[0].tick_params(labelsize=14)\n",
    "plt.show()"
   ]
  },
  {
   "cell_type": "code",
   "execution_count": 16,
   "metadata": {
    "collapsed": true
   },
   "outputs": [],
   "source": [
    "# The above only serves as brief introduction to matplotlib's basic plotting capabilities. You\n",
    "# can virtually make any kind of plot you want. You'll just need to read the documentation."
   ]
  },
  {
   "cell_type": "code",
   "execution_count": null,
   "metadata": {
    "collapsed": true
   },
   "outputs": [],
   "source": []
  }
 ],
 "metadata": {
  "kernelspec": {
   "display_name": "Python 3",
   "language": "python",
   "name": "python3"
  },
  "language_info": {
   "codemirror_mode": {
    "name": "ipython",
    "version": 3
   },
   "file_extension": ".py",
   "mimetype": "text/x-python",
   "name": "python",
   "nbconvert_exporter": "python",
   "pygments_lexer": "ipython3",
   "version": "3.6.1"
  }
 },
 "nbformat": 4,
 "nbformat_minor": 2
}
