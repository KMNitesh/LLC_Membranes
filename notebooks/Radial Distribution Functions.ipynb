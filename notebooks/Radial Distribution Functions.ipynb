{
 "cells": [
  {
   "cell_type": "code",
   "execution_count": null,
   "metadata": {
    "collapsed": true
   },
   "outputs": [],
   "source": [
    "\"\"\" The radial distribution function (RDF) can help us understand the density of various \n",
    "monomer components as a function of the distance from the pore center. \n",
    "\n",
    "The technique for calculating the RDF differs from how most people do it due to the \n",
    "geometry of the hexagonal phase systems.\n",
    "\n",
    "For a standard RDF, one would measure the euclidean distance of an atom or residue\n",
    "center of mass from a reference position. We can create bins in r, the distance from\n",
    "the reference position, and count the number of molecules within that bin. We then normalize\n",
    "by the volume of that bin (4*pi*r2^3 - 4*pi*r1^3). For more reading see: \n",
    "https://en.wikibooks.org/wiki/Molecular_Simulation/Radial_Distribution_Functions\n",
    "\n",
    "For hexagonal phase LLC systems, it is more useful to define the bins in terms of concentric\n",
    "cylinders centered at the pore centers. We bin the radial distance, calculated as the euclidean\n",
    "distance between a given atom or residue center of mass with respect to the xy plane only. We \n",
    "then normalize by the volume of the cylindrical bin (height*pi*(r2^2 - r1^2))\n",
    "\n",
    "This notebook will help you to calculate these RDFs with varying levels of complexity.\n",
    "\n",
    "The documentation for rdf.py is located here:\n",
    "https://llc-membranes.readthedocs.io/en/latest/rdf.html\n",
    "\"\"\""
   ]
  },
  {
   "cell_type": "code",
   "execution_count": 1,
   "metadata": {
    "collapsed": true
   },
   "outputs": [],
   "source": [
    "# start by importing the rdf module\n",
    "from LLC_Membranes.analysis import rdf\n",
    "\n",
    "# See the documentation for how to use the module effectively"
   ]
  },
  {
   "cell_type": "code",
   "execution_count": 2,
   "metadata": {},
   "outputs": [
    {
     "name": "stdout",
     "output_type": "stream",
     "text": [
      "Loading Trajectory...Done!\n",
      "Calculating centers of mass...Done!\n"
     ]
    }
   ],
   "source": [
    "# The main RDF calculations are performed using the class 'System' in rdf.py.\n",
    "# The script `rdf.py` is really just a way to make it easier to interact with that object.\n",
    "# In order to calculate the RDF without rdf.py, we must first initialize 'System' which is \n",
    "# done using the __init__ function within the object. However, you never actually call \n",
    "# __init__. Rather, you only need to call 'System' which automatically runs the __init__ \n",
    "# function.\n",
    "\n",
    "# So let's start with the bare minimum\n",
    "\n",
    "#path = '.'  # change this to the path where your trajectory to be analyzed is located\n",
    "path = \"/home/bcoscia/Documents/Gromacs/equilibration/dry_equilibration/Molecule_X1\"\n",
    "\n",
    "gro = 'berendsen.gro' # name of gro file that is compatible with trajectory\n",
    "traj = 'PR_whole.xtc'  # gromacs trajectory file (.xtc or .trr). It's best to make molecules whole first with gmx trjconv\n",
    "residue = 'R1'  # name of residue whose RDF will be measured. This is necessary because there are often multiple different residues in these systems\n",
    "monomer = 'Molecule_X1' # name of monomer used to build membrane (no file extension). Need this to locate the pore centers. The appropriately annotated monomer.itp file should be located in LLC_Membranes/top/topologies\n",
    "\n",
    "sys = rdf.System('%s/%s' %(path, gro), '%s/%s' %(path, traj), residue, monomer)"
   ]
  },
  {
   "cell_type": "code",
   "execution_count": 3,
   "metadata": {},
   "outputs": [
    {
     "name": "stderr",
     "output_type": "stream",
     "text": [
      "100%|██████████| 166/166 [00:00<00:00, 1559.32 Frames/s]\n"
     ]
    }
   ],
   "source": [
    "# The above block of code load the trajectory using mdtraj and then calculated the center of\n",
    "# mass of each residue\n",
    "\n",
    "# Now we can calculate the radial distribution function\n",
    "sys.radial_distribution_function(cut=2.5)  # cut defines the maximum distance from the pore center that will be binned."
   ]
  },
  {
   "cell_type": "code",
   "execution_count": 4,
   "metadata": {},
   "outputs": [
    {
     "data": {
      "image/png": "[encoded data removed]",
      "text/plain": [
       "<Figure size 432x288 with 1 Axes>"
      ]
     },
     "metadata": {},
     "output_type": "display_data"
    }
   ],
   "source": [
    "# The above block calculated the pore centers and then measured the distance of each center of\n",
    "# mass from the pore center\n",
    "\n",
    "# Now we can calculate uncertainties and plot the results\n",
    "\n",
    "nboot = 200  # number of bootstrap trials\n",
    "sys.bootstrap(nboot)  # generates statistics using the bootstrapping technique with nboot trials\n",
    "sys.plot(show=True) # show=True tells it to show the plot"
   ]
  },
  {
   "cell_type": "code",
   "execution_count": 5,
   "metadata": {
    "collapsed": true
   },
   "outputs": [],
   "source": [
    "# This should generate a peak center around 1.4 - 1.5 nm from the pore center\n",
    "# remember that we measured the distance of the monomer center of mass from the pore center\n",
    "# so it makes sense that those points are situated about there.\n",
    "\n",
    "# We can visualize the points used to calculate the rdf with the following function:\n",
    "\n",
    "sys.build_com()"
   ]
  },
  {
   "cell_type": "code",
   "execution_count": 6,
   "metadata": {
    "collapsed": true
   },
   "outputs": [],
   "source": [
    "# A .gro file named 'com.gro' should have been created in the same directory as this notebook\n",
    "# Open up com.gro in VMD.\n",
    "# In the 'VMD Main' window, select the 'graphics' drop-down menu and choose 'Representations'\n",
    "# In the window that popped up ('Graphical Representations'), type 'resname K' in the \n",
    "# 'Selected Atoms' box\n",
    "# To make it easier to see, change the Drawing Method to CPK\n",
    "# Each dot represents the center of mass of a monomer.\n",
    "# NOTE: sys.build_com() by default represents all of the centers of mass as potassium (K) atoms. \n",
    "# You can change the COM representation by specifying the atom name: sys.build_com(rep=name)"
   ]
  },
  {
   "cell_type": "code",
   "execution_count": 7,
   "metadata": {},
   "outputs": [
    {
     "name": "stdout",
     "output_type": "stream",
     "text": [
      "['C1', 'C2', 'C3', 'C4', 'C5', 'C6']\n"
     ]
    }
   ],
   "source": [
    "# In the basic way we just used it, rdf.System() is not that useful.\n",
    "# Instead of calculating the RDF of the monomer COM, let's isolate it to the COM of a specific\n",
    "# group of atoms.\n",
    "\n",
    "# Let's find the radial density of the pore defining atoms. These are the atoms used to locate\n",
    "# the center of mass of the pore. If you don't know the names of the atoms off the top of your\n",
    "# head, you can look for 'PDA' annotation in the monomer's itp file, or just use one of \n",
    "# LLC_Membranes' tools\n",
    "\n",
    "from LLC_Membranes.llclib.topology import LC\n",
    "\n",
    "pore_defining_atoms = LC(monomer).pore_defining_atoms  # LC() reads the annotations in monomer.itp\n",
    "print(pore_defining_atoms)"
   ]
  },
  {
   "cell_type": "code",
   "execution_count": 8,
   "metadata": {},
   "outputs": [
    {
     "name": "stdout",
     "output_type": "stream",
     "text": [
      "Loading Trajectory...Done!\n",
      "Calculating centers of mass..."
     ]
    },
    {
     "name": "stderr",
     "output_type": "stream",
     "text": [
      "100%|██████████| 166/166 [00:00<00:00, 2221.14 Frames/s]"
     ]
    },
    {
     "name": "stdout",
     "output_type": "stream",
     "text": [
      "Done!\n"
     ]
    },
    {
     "name": "stderr",
     "output_type": "stream",
     "text": [
      "\n"
     ]
    },
    {
     "data": {
      "image/png": "[encoded data removed]",
      "text/plain": [
       "<Figure size 432x288 with 1 Axes>"
      ]
     },
     "metadata": {},
     "output_type": "display_data"
    }
   ],
   "source": [
    "# Now repeat the above, but restricted to the pore defining atoms\n",
    "sys = rdf.System('%s/%s' %(path, gro), '%s/%s' %(path, traj), residue, monomer, atoms=pore_defining_atoms)\n",
    "sys.radial_distribution_function(cut=1.5)  # made the max radial distance smaller\n",
    "sys.bootstrap(nboot)\n",
    "sys.plot(show=True)"
   ]
  },
  {
   "cell_type": "code",
   "execution_count": 9,
   "metadata": {},
   "outputs": [
    {
     "name": "stdout",
     "output_type": "stream",
     "text": [
      "Calculating pore spline...\n",
      "Attempting to load spline ... "
     ]
    },
    {
     "name": "stderr",
     "output_type": "stream",
     "text": [
      "  1%|          | 2/166 [00:00<00:08, 19.79it/s]"
     ]
    },
    {
     "name": "stdout",
     "output_type": "stream",
     "text": [
      "spline.pl not found ... Calculating spline\n"
     ]
    },
    {
     "name": "stderr",
     "output_type": "stream",
     "text": [
      "100%|██████████| 166/166 [00:05<00:00, 28.98it/s]\n",
      "100%|██████████| 166/166 [00:00<00:00, 855.37 Frames/s]"
     ]
    },
    {
     "name": "stdout",
     "output_type": "stream",
     "text": [
      "Calculating component density\n"
     ]
    },
    {
     "name": "stderr",
     "output_type": "stream",
     "text": [
      "\n"
     ]
    },
    {
     "data": {
      "image/png": "[encoded data removed]",
      "text/plain": [
       "<Figure size 432x288 with 1 Axes>"
      ]
     },
     "metadata": {},
     "output_type": "display_data"
    }
   ],
   "source": [
    "# Now we have a density of just the center of mass of the pore defining atoms.\n",
    "# It might look a little jagged. \n",
    "# That is because the pores are not perfect cylinders. The edges aren't perfectly defined\n",
    "# and there is somewhat of a z-dependence to the pore's radius and center.\n",
    "# To deal with this, you can construct a spline through the center of the pore. To do so,\n",
    "# the pore is broken into bins in the z direction. The center of mass of any pore defining\n",
    "# atoms which occupy that bin are used to locate the pore center within the bin. \n",
    "# If there are ten bins, then there are 10 points making a spline that runs through the pore\n",
    "# center.\n",
    "# The distance to the pore center is calculated based on the radial distance from the point\n",
    "# to the spline. The pore center is interpolated for in-between values.\n",
    "# To implement the spline, just add spline = True to the radial distribution and recalculate\n",
    "\n",
    "sys.radial_distribution_function(cut=1.5, spline=True)  # made the max radial distance smaller\n",
    "sys.bootstrap(nboot)\n",
    "sys.plot(show=True)"
   ]
  },
  {
   "cell_type": "code",
   "execution_count": 10,
   "metadata": {},
   "outputs": [
    {
     "name": "stdout",
     "output_type": "stream",
     "text": [
      "Calculating pore spline...\n",
      "Attempting to load spline ... Success!\n"
     ]
    },
    {
     "name": "stderr",
     "output_type": "stream",
     "text": [
      " 42%|████▏     | 70/166 [00:00<00:00, 696.45 Frames/s]"
     ]
    },
    {
     "name": "stdout",
     "output_type": "stream",
     "text": [
      "Calculating component density\n"
     ]
    },
    {
     "name": "stderr",
     "output_type": "stream",
     "text": [
      "100%|██████████| 166/166 [00:00<00:00, 683.40 Frames/s]\n"
     ]
    }
   ],
   "source": [
    "# Hopefully that smoothed things. If it didn't, it's still the best way to calculate the RDF.\n",
    "# You can visualize the spline if you add build=True when you call radial_distribution_function\n",
    "\n",
    "sys.radial_distribution_function(cut=1.5, spline=True, build=True)  # made the max radial distance smaller"
   ]
  },
  {
   "cell_type": "code",
   "execution_count": 11,
   "metadata": {
    "collapsed": true
   },
   "outputs": [],
   "source": [
    "# open spline.gro in VMD\n",
    "# open up the Graphical Representations panel (Graphics -> representations) from VMD Main window)\n",
    "# type resname K into the 'Selected Atoms' box and change the Drawing method to CPK. \n",
    "# You should now see the points which make up the spline\n",
    "# Click the 'Create Rep' button at the top of graphical representations\n",
    "# In 'Selected atoms' type 'name' and then the names of pore defining atoms. So for Molecule_X1\n",
    "# you would type 'name C1 C2 C3 C4 C5 C6'\n",
    "# You should now be able to see the spline running through the pore. Its easier to see if you \n",
    "# change the pore defining atoms drawing method to Lines"
   ]
  },
  {
   "cell_type": "code",
   "execution_count": 12,
   "metadata": {
    "collapsed": true
   },
   "outputs": [],
   "source": [
    "# Now let's try some stuff on your own.\n",
    "# (1) Plot the RDF of the pore definining atoms AND some other component\n",
    "# For Molecule_X1, use the monomer's nitrogen atom as the other component"
   ]
  },
  {
   "cell_type": "code",
   "execution_count": 15,
   "metadata": {
    "collapsed": true
   },
   "outputs": [],
   "source": [
    "# (2) Plot the RDF of the pore defining atoms again, but do not calculate the center of mass\n",
    "# of the group. Plot it on top of that calculated using the centers of mass.\n",
    "# Hint: read documentation for rdf.System()"
   ]
  },
  {
   "cell_type": "code",
   "execution_count": 14,
   "metadata": {
    "collapsed": true
   },
   "outputs": [],
   "source": [
    "# (3) Calculate the RDF of (i) the tails (without the center of mass), (ii) the center of mass of \n",
    "# the pore defining atoms and (iii) the nitrogen atom of Molecule_X1"
   ]
  },
  {
   "cell_type": "code",
   "execution_count": 16,
   "metadata": {
    "collapsed": true
   },
   "outputs": [],
   "source": [
    "# (4) Do the same as (1), (2) and (3) but use rdf.py on the command line. (You can make a \n",
    "# shell script so that you save your work)\n",
    "# The documentation will be helpful here."
   ]
  },
  {
   "cell_type": "code",
   "execution_count": null,
   "metadata": {
    "collapsed": true
   },
   "outputs": [],
   "source": []
  }
 ],
 "metadata": {
  "kernelspec": {
   "display_name": "Python 3",
   "language": "python",
   "name": "python3"
  },
  "language_info": {
   "codemirror_mode": {
    "name": "ipython",
    "version": 3
   },
   "file_extension": ".py",
   "mimetype": "text/x-python",
   "name": "python",
   "nbconvert_exporter": "python",
   "pygments_lexer": "ipython3",
   "version": "3.6.8"
  }
 },
 "nbformat": 4,
 "nbformat_minor": 2
}
