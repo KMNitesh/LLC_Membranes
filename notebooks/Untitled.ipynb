{
 "cells": [
  {
   "cell_type": "markdown",
   "metadata": {},
   "source": [
    "### The Probability Integral Transform"
   ]
  },
  {
   "cell_type": "markdown",
   "metadata": {},
   "source": [
    "Let  {$f_t(y_t | \\Omega_t)$}$_{t=1}^m$ be a data generating process where $\\Omega_t =$ {$y_{t-1}, y_{t -2}, ...$}. <br>\n",
    "$f_t(y_t|\\Omega_t)$ is the density of $y_t$ based on past observations <br>\n",
    "Let {$p_t(y_t | \\Omega_t)$}$_{t=1}^m$ be a sequence of density forecasts of $y_t$ <br>\n",
    "One can relate the data generated from $f$ and sequence of density forecasts through the probability integral transform, $z_t$: <br>\n",
    "$$z_t = \\int_{-\\infty}^{y_t} p_t(u) du = P_t(y_t)$$\n"
   ]
  },
  {
   "cell_type": "markdown",
   "metadata": {},
   "source": [
    "Suppose {$y_t$}$_{t=1}^m$ is generated from {$f_t(y_t | \\Omega_t)$}$_{t=1}^m$. If a sequence of density forecasts {$p_t(y_t | \\Omega_t)$}$_{t=1}^m$ coincides with {$f_t(y_t | \\Omega_t)$}$_{t=1}^m$, then the sequence of probability integral transforms of {$y_t$}$_{t=1}^m$ with respect to {$p_t(y_t | \\Omega_t)$}$_{t=1}^m$ is iid U(0, 1) (independent and identically distributed coming from a uniform distribution on the interval (0, 1))<br>"
   ]
  },
  {
   "cell_type": "markdown",
   "metadata": {},
   "source": [
    "Let's start with a simple example. Let's assume we have a time series where the increments are normally distributed, $N$(0, 1)"
   ]
  },
  {
   "cell_type": "code",
   "execution_count": 8,
   "metadata": {},
   "outputs": [],
   "source": [
    "# imports\n",
    "import numpy as np\n",
    "import matplotlib.pyplot as plt\n",
    "from scipy.stats import norm"
   ]
  },
  {
   "cell_type": "code",
   "execution_count": 17,
   "metadata": {},
   "outputs": [
    {
     "data": {
      "image/png": "[encoded data removed]",
      "text/plain": [
       "<Figure size 432x288 with 1 Axes>"
      ]
     },
     "metadata": {},
     "output_type": "display_data"
    }
   ],
   "source": [
    "# Generate a realization of a time series with Gaussian increments\n",
    "m = 10000  # number of points in single realization of a time series\n",
    "yt = np.random.normal(size=m)  # Gaussian data with mean=0 and sigma=1\n",
    "plt.plot(yt)\n",
    "plt.show()"
   ]
  },
  {
   "cell_type": "markdown",
   "metadata": {},
   "source": [
    "For each point, $y$, in the timeseries, we need to calculate its Probability Integral Transform. This means that, for every value of $y$, we must integrate our assumed probability density from -$\\infty$ to $y$. This is the same information we can get from a cumulative density function (CDF). <br>\n",
    "<br>\n",
    "Even though we know that we generated the data by pulling from $N(0, 1)$ distribution, let's see what happens if we assume a different distribution. <br>\n",
    "<br>\n",
    "Start by checking if this data is well-described by a cauchy distribution."
   ]
  },
  {
   "cell_type": "code",
   "execution_count": 20,
   "metadata": {
    "collapsed": true
   },
   "outputs": [],
   "source": [
    "from scipy.stats import cauchy\n",
    "\n",
    "zt = cauchy.cdf(yt)  # integrated probability up to each point"
   ]
  },
  {
   "cell_type": "code",
   "execution_count": 21,
   "metadata": {},
   "outputs": [
    {
     "data": {
      "image/png": "[encoded data removed]",
      "text/plain": [
       "<Figure size 432x288 with 1 Axes>"
      ]
     },
     "metadata": {},
     "output_type": "display_data"
    }
   ],
   "source": [
    "# If cauchy is the correct distribution, then a histogram of the values of zt should be\n",
    "# uniform\n",
    "\n",
    "plt.hist(zt, bins=25, density=True)\n",
    "plt.show()"
   ]
  },
  {
   "cell_type": "markdown",
   "metadata": {},
   "source": [
    "Nope. Not uniform, cauchy probably isn't the right distribution. We are missing information from the tails. Now try Gaussian."
   ]
  },
  {
   "cell_type": "code",
   "execution_count": 23,
   "metadata": {},
   "outputs": [],
   "source": [
    "from scipy.stats import norm\n",
    "\n",
    "zt = norm.cdf(yt)"
   ]
  },
  {
   "cell_type": "code",
   "execution_count": 24,
   "metadata": {},
   "outputs": [
    {
     "data": {
      "image/png": "[encoded data removed]",
      "text/plain": [
       "<Figure size 432x288 with 1 Axes>"
      ]
     },
     "metadata": {},
     "output_type": "display_data"
    }
   ],
   "source": [
    "# If we assumed the probability density above (Gaussian) then a histogram of zt values\n",
    "# should be uniform.\n",
    "plt.hist(zt, density=True)\n",
    "plt.show()"
   ]
  },
  {
   "cell_type": "markdown",
   "metadata": {},
   "source": [
    "That's better. "
   ]
  },
  {
   "cell_type": "markdown",
   "metadata": {},
   "source": [
    "Now, let's work through the example of Diebold, Gunther and Tay (see [their paper](https://www.sas.upenn.edu/~fdiebold/papers/paper16/paper16.pdf))"
   ]
  },
  {
   "cell_type": "markdown",
   "metadata": {},
   "source": [
    "The generalized autoregressive conditional heteroskedasticity (GARCH) process is an approach to esimate the volatility of financial markets. The authors use a GARCH(1,1) data generating process. In a GARCH($p$,$q$) process, the variance, $h_t$ is given by\n",
    "$$h_t = \\omega + \\sum_{i=1}^q \\alpha_i y_{t-i}^2 + \\sum_{i=1}^p \\beta_i h_{t-i}$$\n",
    "So for a GARCH(1, 1) process, we have:\n",
    "$$h_t = \\omega + \\alpha y_{t-1}^2 + \\beta h_{t-1}$$\n",
    "<br>\n",
    "The conditional density of the process is a standardized Student's-t with six degrees of freedom,\n",
    "$$y_t = \\sqrt{\\dfrac{2h_t}{3}}t(6)$$\n",
    "\n",
    "The authors use values of $\\omega = 0.01$, $\\alpha = 0.13$ and $\\beta = 0.86$. <br>\n",
    "\n",
    "<br>\n",
    "It has been [suggested](https://stats.stackexchange.com/questions/133286/initial-value-of-the-conditional-variance-in-the-garch-process) that one can initialize the process by setting $h_t$ equal the sample variance."
   ]
  },
  {
   "cell_type": "code",
   "execution_count": 47,
   "metadata": {},
   "outputs": [
    {
     "data": {
      "image/png": "[encoded data removed]",
      "text/plain": [
       "<Figure size 432x288 with 1 Axes>"
      ]
     },
     "metadata": {},
     "output_type": "display_data"
    }
   ],
   "source": [
    "# generate and plot a GARCH(1,1) time series\n",
    "n = 8000 # number of points in timeseries\n",
    "ht0 = 1  # initialize h_t-1 with the expected variance\n",
    "\n",
    "w = 0.01\n",
    "alpha = 0.13\n",
    "beta = 0.86\n",
    "\n",
    "ht = np.zeros([n])\n",
    "yt = np.zeros([n])\n",
    "\n",
    "ht[0] = ht0\n",
    "yt[0] = np.sqrt(2*ht0/3)*np.random.standard_t(6)\n",
    "\n",
    "for t in range(1, n):\n",
    "    ht[t] = w + alpha * yt[t - 1]**2 + beta * ht[t - 1]\n",
    "    yt[t] = np.sqrt(2*ht[t]/3)*np.random.standard_t(6)\n",
    "    \n",
    "plt.plot(yt)\n",
    "plt.show()"
   ]
  },
  {
   "cell_type": "code",
   "execution_count": 52,
   "metadata": {},
   "outputs": [
    {
     "name": "stdout",
     "output_type": "stream",
     "text": [
      "1.0168874003564377\n"
     ]
    },
    {
     "data": {
      "image/png": "[encoded data removed]",
      "text/plain": [
       "<Figure size 432x288 with 1 Axes>"
      ]
     },
     "metadata": {},
     "output_type": "display_data"
    }
   ],
   "source": [
    "# confirm that we get appropriate distributions \n",
    "from scipy.stats import t\n",
    "\n",
    "zt = np.sqrt(2/3)*t.cdf(yt, 6)\n",
    "\n",
    "plt.hist(zt, bins=25, density=True)\n",
    "plt.show()"
   ]
  },
  {
   "cell_type": "code",
   "execution_count": null,
   "metadata": {
    "collapsed": true
   },
   "outputs": [],
   "source": []
  }
 ],
 "metadata": {
  "kernelspec": {
   "display_name": "Python 3",
   "language": "python",
   "name": "python3"
  },
  "language_info": {
   "codemirror_mode": {
    "name": "ipython",
    "version": 3
   },
   "file_extension": ".py",
   "mimetype": "text/x-python",
   "name": "python",
   "nbconvert_exporter": "python",
   "pygments_lexer": "ipython3",
   "version": "3.6.8"
  }
 },
 "nbformat": 4,
 "nbformat_minor": 2
}
